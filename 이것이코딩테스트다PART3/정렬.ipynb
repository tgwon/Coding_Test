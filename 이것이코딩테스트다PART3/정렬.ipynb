{
 "cells": [
  {
   "cell_type": "code",
   "execution_count": null,
   "id": "318f96e3",
   "metadata": {},
   "outputs": [],
   "source": [
    "# 이중 리스트 그냥 정렬하면, 저절로 첫번째 값을 기준으로 정렬 하고 같은 값이면 두번째 값을 기준으로 정렬함.\n",
    "# 첫번째 값으로만 하거나 아니면 내림차순을 적용하거나 할 때 key를 활용."
   ]
  },
  {
   "cell_type": "code",
   "execution_count": null,
   "id": "be2dde24",
   "metadata": {},
   "outputs": [],
   "source": [
    "# Q23 국영수\n",
    "N = int(input())\n",
    "result = []\n",
    "for i in range(N):\n",
    "    info = input().split()\n",
    "    result.append([info[0], int(info[1]), int(info[2]), int(info[3])])\n",
    "\n",
    "# 문자형 숫자 주의\n",
    "# '20' > '110'\n",
    "    \n",
    "# 1, 2번 조건만 생각해보자 -> 전체적으로 국어는 내림차순이고 일부 영어만 오름차순이어야함.\n",
    "# 국어 내림차순 정렬 후 영어 오름차순 정렬을 적용하면 정렬된 전체적인 국어의 순서가 흐트러짐\n",
    "# 반대로, 영어 오름차순 정렬을 먼저 적용하면 이 때 같은 국어점수들만 보면 영어는 오름차순임.\n",
    "# 여기서 국어 내림차순 정렬을 적용하면 전체적으로 국어는 내림차순이고 같은 국어점수들간의 순서는 변하지 않음. 대응되는 국어점수들은 오름차순.\n",
    "\n",
    "result.sort(key = lambda x: x[0])\n",
    "result.sort(key = lambda x: x[3], reverse=True)\n",
    "result.sort(key = lambda x: x[2])\n",
    "result.sort(key = lambda x: x[1], reverse=True)\n",
    "\n",
    "# 이 방법도 가능\n",
    "# sort의 디폴트는 오름차순. 음수를 오름차순 하는 건 해당하는 양수의 내림차순과 같은 의미.\n",
    "#result.sort(key = lambda x: (-x[1], x[2], -x[3], x[0]))\n",
    "\n",
    "for i in result:\n",
    "    print(i[0])"
   ]
  },
  {
   "cell_type": "code",
   "execution_count": 1,
   "id": "e57ba5ef",
   "metadata": {},
   "outputs": [
    {
     "name": "stdout",
     "output_type": "stream",
     "text": [
      "4\n",
      "5 1 7 9\n",
      "5\n"
     ]
    }
   ],
   "source": [
    "# Q24 안테나 시간 초과 오답\n",
    "\n",
    "# 시작점(1)부터 하나씩 옮겨가면서 모든 집까지의 거리의 총합을 계산.\n",
    "# 거리의 총합이 min인 값이 여러개여도 min 값에 대해서 index를 살펴보면 가장 먼저 나온 값 -> 문제 기준 충족.\n",
    "\n",
    "#import sys\n",
    "#input = sys.stdin.readline\n",
    "\n",
    "n = int(input())\n",
    "nums = list(map(int, input().split()))\n",
    "result = []\n",
    "for i in range(1, max(nums) + 1):\n",
    "    sum = 0\n",
    "    for j in nums:\n",
    "        sum += abs(j-i)\n",
    "    result.append(sum)\n",
    "\n",
    "print(result.index(min(result)) + 1)"
   ]
  },
  {
   "cell_type": "code",
   "execution_count": 5,
   "id": "5b839c31",
   "metadata": {},
   "outputs": [
    {
     "name": "stdout",
     "output_type": "stream",
     "text": [
      "4\n",
      "5 1 7 9\n",
      "5\n"
     ]
    }
   ],
   "source": [
    "# Q24 안테나 시간 초과 오답\n",
    "\n",
    "# 시작점(1)부터 하나씩 옮겨가면서 모든 집까지의 거리의 총합을 계산. 이 전 값보다 총합이 커지면 거기서 스톱.\n",
    "# 스톱하고 min 값에 대해서 index 살펴보기\n",
    "\n",
    "# 이래도 시간초과 -> 뭔 근본적인 문제가 있다. 다른 접근 방식 생각.\n",
    "\n",
    "n = int(input())\n",
    "nums = list(map(int, input().split()))\n",
    "result = []\n",
    "for i in range(1, max(nums) + 1):\n",
    "    sum = 0\n",
    "    for j in nums:\n",
    "        sum += abs(j-i)\n",
    "        \n",
    "    result.append(sum)\n",
    "    \n",
    "    if (i > 1) & (result[i-1] > result[i-2]):\n",
    "        break\n",
    "\n",
    "print(result.index(min(result)) + 1)"
   ]
  },
  {
   "cell_type": "code",
   "execution_count": 13,
   "id": "fe506b42",
   "metadata": {},
   "outputs": [
    {
     "name": "stdout",
     "output_type": "stream",
     "text": [
      "5\n",
      "5 1 7 9 4\n"
     ]
    }
   ],
   "source": [
    "# Q24 안테나\n",
    "# https://oranz.tistory.com/35\n",
    "\n",
    "# 순서대로 정렬한뒤 중앙값 구하기\n",
    "# n이 홀수일 때는 중앙값, n이 짝수일때는 작은 게 나와야됨. \n",
    "\n",
    "n = int(input())\n",
    "nums = list(map(int, input().split()))\n",
    "nums.sort()\n",
    "\n",
    "print(nums[(n-1)//2])"
   ]
  },
  {
   "cell_type": "code",
   "execution_count": null,
   "id": "aff7990c",
   "metadata": {},
   "outputs": [],
   "source": [
    "# Q25 실패율\n",
    "# https://school.programmers.co.kr/learn/courses/30/lessons/42889\n",
    "\n",
    "def solution(N, stages):\n",
    "    result = []\n",
    "    # 머물러있는 사람의 수를 리스트의 길이로 연산하기 위해 sorting\n",
    "    stages.sort()\n",
    "    \n",
    "    for i in range(1,N+1):\n",
    "        \n",
    "        # 해당 스테이지에 머물러 있는 사람의 수 / 해당 스테이지에 머물러 있거나, 통과한 사람의 수\n",
    "        try:\n",
    "            fail_rate = stages.count(i)/len(stages[stages.index(i):])\n",
    "            \n",
    "        # i 번째 스테이지에 존재하는 사람이 없으면 실패율 0 \n",
    "        except:\n",
    "            fail_rate = 0\n",
    "            \n",
    "        # 스테이지 번호, 실패율    \n",
    "        result.append((i,fail_rate))\n",
    "        \n",
    "    # 실패율을 기준으로 내림차순 정렬    \n",
    "    result.sort(key = lambda x: x[1], reverse=True)\n",
    "    \n",
    "    # 스테이지 번호만 retrun\n",
    "    return [i for i,k in result]\n",
    "\n",
    "solution(5, [2,1,2,6,2,5,3,3])\n",
    "# [3,4,2,1,5]"
   ]
  },
  {
   "cell_type": "code",
   "execution_count": null,
   "id": "29366dea",
   "metadata": {},
   "outputs": [],
   "source": [
    "# Q25 다른풀이\n",
    "\n",
    "answer = []\n",
    "lenght len(stages)\n",
    "\n",
    "# 해당 스테이지에 머물러 있는 사람의 수 계산\n",
    "count = stages.count(i)\n",
    "\n",
    "# 실패율 계산\n",
    "if lenght == 0:\n",
    "    fail = 0\n",
    "else:\n",
    "    fail = count / lengh\n",
    "    \n",
    "answer.append((i, fail))\n",
    "length -= count\n"
   ]
  },
  {
   "cell_type": "code",
   "execution_count": null,
   "id": "5e5262c8",
   "metadata": {},
   "outputs": [],
   "source": [
    "# Q26 카드 정렬하기 "
   ]
  }
 ],
 "metadata": {
  "kernelspec": {
   "display_name": "Python 3 (ipykernel)",
   "language": "python",
   "name": "python3"
  },
  "language_info": {
   "codemirror_mode": {
    "name": "ipython",
    "version": 3
   },
   "file_extension": ".py",
   "mimetype": "text/x-python",
   "name": "python",
   "nbconvert_exporter": "python",
   "pygments_lexer": "ipython3",
   "version": "3.9.16"
  }
 },
 "nbformat": 4,
 "nbformat_minor": 5
}
