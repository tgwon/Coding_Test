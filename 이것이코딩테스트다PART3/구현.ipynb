{
 "cells": [
  {
   "cell_type": "code",
   "execution_count": 102,
   "id": "fc0bb5f1",
   "metadata": {},
   "outputs": [
    {
     "name": "stdout",
     "output_type": "stream",
     "text": [
      "7755\n",
      "READY\n"
     ]
    }
   ],
   "source": [
    "# Q7\n",
    "num = input()\n",
    "left = 0\n",
    "right = 0\n",
    "\n",
    "for i in range(len(num)//2):\n",
    "    right += int(num[:len(num)//2][i])\n",
    "    left += int(num[len(num)//2:][i])\n",
    "\n",
    "if right == left:\n",
    "    print('LUCKY')\n",
    "else:\n",
    "    print('READY')"
   ]
  },
  {
   "cell_type": "code",
   "execution_count": 141,
   "id": "b8994bbe",
   "metadata": {},
   "outputs": [
    {
     "name": "stdout",
     "output_type": "stream",
     "text": [
      "K1KA5CB7\n",
      "ABCKK13\n"
     ]
    }
   ],
   "source": [
    "# Q8\n",
    "input_word = input()\n",
    "\n",
    "word = []\n",
    "num = []\n",
    "\n",
    "for i in input_word:\n",
    "    try:\n",
    "        num.append(int(i))\n",
    "    except:\n",
    "        word.append(i)\n",
    "\n",
    "word.sort()\n",
    "\n",
    "print(''.join(word)+str(sum(num)))"
   ]
  }
 ],
 "metadata": {
  "kernelspec": {
   "display_name": "Python 3 (ipykernel)",
   "language": "python",
   "name": "python3"
  },
  "language_info": {
   "codemirror_mode": {
    "name": "ipython",
    "version": 3
   },
   "file_extension": ".py",
   "mimetype": "text/x-python",
   "name": "python",
   "nbconvert_exporter": "python",
   "pygments_lexer": "ipython3",
   "version": "3.9.16"
  }
 },
 "nbformat": 4,
 "nbformat_minor": 5
}
